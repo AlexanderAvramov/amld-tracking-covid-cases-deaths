{
 "cells": [
  {
   "cell_type": "markdown",
   "id": "30aa551e",
   "metadata": {},
   "source": [
    "# Welcome to the Covid Tracking Example!"
   ]
  },
  {
   "cell_type": "markdown",
   "id": "51ca7797",
   "metadata": {},
   "source": [
    "## Workshop Steps"
   ]
  },
  {
   "cell_type": "markdown",
   "id": "1ba646cb",
   "metadata": {},
   "source": [
    "Now that you have opened up the MyBinder environment and are reading this, you are already on the right track! Inside this environment, you will also find:\n",
    "\n",
    "* sample scripts: This is a folder containing the base of the scripts that you will be working with to finish the exercise. Please look for the triple exclamation points (!!!) as that means that you are being asked to write some code to get things to work!\n",
    "* README.md: This is just the README file you saw on the Github page.\n",
    "* requirements.txt: This is a list of the required libraries that were installed upon startup.\n",
    "* setup.ipynb: The file you are reading right now! Think of this as your home page."
   ]
  },
  {
   "cell_type": "markdown",
   "id": "51c917e5",
   "metadata": {},
   "source": [
    "## Step 0: Set up SQL Magic"
   ]
  },
  {
   "cell_type": "code",
   "execution_count": null,
   "id": "840eb332",
   "metadata": {},
   "outputs": [],
   "source": [
    "%config SqlMagic.autocommit=False"
   ]
  },
  {
   "cell_type": "code",
   "execution_count": null,
   "id": "5d1fd947",
   "metadata": {},
   "outputs": [],
   "source": [
    "%load_ext sql"
   ]
  },
  {
   "cell_type": "code",
   "execution_count": null,
   "id": "ea0a5e20",
   "metadata": {},
   "outputs": [],
   "source": [
    "%sql SHOW TABLES FROM default"
   ]
  },
  {
   "cell_type": "code",
   "execution_count": null,
   "id": "e3f7d128",
   "metadata": {},
   "outputs": [],
   "source": [
    "%sql select count(*) from mysql.default.covid_cases_europe_daily"
   ]
  },
  {
   "cell_type": "code",
   "execution_count": null,
   "id": "6e8595aa",
   "metadata": {},
   "outputs": [],
   "source": [
    "%sql select count(*) from mysql.default.covid_deaths_europe_daily"
   ]
  },
  {
   "cell_type": "code",
   "execution_count": null,
   "id": "77ffaa42",
   "metadata": {},
   "outputs": [],
   "source": [
    "%sql select count(*) from mysql.default.covid_cases_deaths_europe_daily"
   ]
  },
  {
   "cell_type": "code",
   "execution_count": null,
   "id": "64a8f517",
   "metadata": {},
   "outputs": [],
   "source": [
    "%sql DROP TABLE mysql.default.covid_cases_europe_daily"
   ]
  },
  {
   "cell_type": "code",
   "execution_count": null,
   "id": "b3e2089e",
   "metadata": {},
   "outputs": [],
   "source": [
    "%sql DROP TABLE mysql.default.covid_deaths_europe_daily"
   ]
  },
  {
   "cell_type": "code",
   "execution_count": null,
   "id": "fc427870",
   "metadata": {},
   "outputs": [],
   "source": [
    "%sql DROP TABLE mysql.default.covid_cases_deaths_europe_daily"
   ]
  },
  {
   "cell_type": "markdown",
   "id": "bc826dab",
   "metadata": {},
   "source": [
    "## Step 1: Explore the List of Data Jobs That Have Been Created on the Cloud"
   ]
  },
  {
   "cell_type": "code",
   "execution_count": null,
   "id": "d4419f25",
   "metadata": {},
   "outputs": [],
   "source": [
    "! vdk list"
   ]
  },
  {
   "cell_type": "markdown",
   "id": "dea4bc11",
   "metadata": {},
   "source": [
    "## Step 2: Create a Data Job"
   ]
  },
  {
   "cell_type": "markdown",
   "id": "2d3a926b",
   "metadata": {},
   "source": [
    "Now that we have explored the list of created (on the cloud) data jobs, let's create our own.\n",
    "\n",
    "Keep in mind that we would like to have a sub-folder for the data job,so that our Streamlit script is outside of it and in the main directory.\n",
    "\n",
    "Based on the information above, try creating a data job titled as follows:\n",
    "* covid-tracking, dash (-)\n",
    "* your last name, dash (-)\n",
    "* your favorite sports team, dash (-)\n",
    "* your favorite drink.\n",
    "\n",
    "Please do not use team names and numbers that may be parts of any of your passwords, as the data job names will be visible to all. For example, you can create a data job titled \"covid-tracking-smith-man-united-cola\".\n",
    "\n",
    "You can chose any team name that you want, but please create the job at the home directory. This will create a sub-folder for the data job. The home directory is /home/jovyan.\n",
    "\n",
    "Here's an example code:"
   ]
  },
  {
   "cell_type": "code",
   "execution_count": null,
   "id": "a8c8f286",
   "metadata": {},
   "outputs": [],
   "source": [
    "! vdk create -n tracking-covid-avramov-man-united-boza -t amld -p /home/jovyan"
   ]
  },
  {
   "cell_type": "markdown",
   "id": "0e57c8ee",
   "metadata": {},
   "source": [
    "## Step 3: Work Out the Data Job Template"
   ]
  },
  {
   "cell_type": "markdown",
   "id": "db6206d8",
   "metadata": {},
   "source": [
    "Now that you have created a data job, please go inside the subfolder and set up the structure of your data job. Here's the general idea.\n",
    "\n",
    "We want the data job to have three scripts:\n",
    "\n",
    "* Let's have one SQL script that creates the Covid cases data table in our cloud DB.\n",
    "* Let's have one SQL script that creates the Covid deaths data table in our cloud DB.\n",
    "* Let's have one SQL script that creates the Covid cases and deaths cleantable in our cloud DB.\n",
    "* Let's have one Python script that creates an API call for the Covid cases data and ingests it into our cloud DB.\n",
    "* Let's have another Python script that creates an API call for the Covid deaths data and ingests it into our cloud DB.\n",
    "* Let's have one Python script that reads both sets of data from the cloud DB, joins them, cleans them, and saves them in a new table in the DB.\n",
    "* Let's also have a config.ini file, which specifies how often the data job will be executed, using cron scheduling.\n",
    "\n",
    "Each of these scripts are present in the sample scripts subfolder. However, we've added some coding challeneges inside of them to make things fun! \n",
    "\n",
    "Let's first delete the template scripts that came with the creation of the data job, since we won't need them. Please run the code cell below, making sure to enter your data job's name instead of the 'ENTER NAME HERE'."
   ]
  },
  {
   "cell_type": "code",
   "execution_count": null,
   "id": "badfbc78",
   "metadata": {},
   "outputs": [],
   "source": [
    "! rm \"tracking-covid-avramov-man-united-boza/10_sql_step.sql\"\n",
    "! rm \"tracking-covid-avramov-man-united-boza/20_python_step.py\"\n",
    "! rm \"tracking-covid-avramov-man-united-boza/README.md\"\n",
    "! rm \"tracking-covid-avramov-man-united-boza/requirements.txt\"\n",
    "! rm \"tracking-covid-avramov-man-united-boza/config.ini\""
   ]
  },
  {
   "cell_type": "markdown",
   "id": "223b8eab",
   "metadata": {},
   "source": [
    "Let's move the sample scripts to the data job subfolder. Please run the code cell below, making sure to enter your data job's name instead of the 'ENTER NAME HERE'."
   ]
  },
  {
   "cell_type": "code",
   "execution_count": null,
   "id": "73dd202b",
   "metadata": {},
   "outputs": [],
   "source": [
    "! mv \"sample scripts/01_create_covid_cases_europe_daily.sql\" ~/tracking-covid-avramov-man-united-boza\n",
    "! mv \"sample scripts/02_create_covid_deaths_europe_daily.sql\" ~/tracking-covid-avramov-man-united-boza\n",
    "! mv \"sample scripts/03_create_clean_full_table.sql\" ~/tracking-covid-avramov-man-united-boza\n",
    "! mv \"sample scripts/10_ingest_covid_cases_data.py\"  ~/tracking-covid-avramov-man-united-boza\n",
    "! mv \"sample scripts/20_ingest_covid_deaths_data.py\"  ~/tracking-covid-avramov-man-united-boza\n",
    "! mv \"sample scripts/30_clean_merge_transform.py\"  ~/tracking-covid-avramov-man-united-boza\n",
    "! mv \"sample scripts/config.ini\"  ~/tracking-covid-avramov-man-united-boza"
   ]
  },
  {
   "cell_type": "markdown",
   "id": "5e2e5fd0",
   "metadata": {},
   "source": [
    "Great! Now you're all set up with the data job:\n",
    "\n",
    "* You have created a data job on the cloud.\n",
    "* You have deleted the template files that you do not need.\n",
    "* You have moved the sample scripts we provided to the data job sub-folder.\n",
    "\n",
    "The next step is to begin working on each script in the data job! Let's do it!"
   ]
  },
  {
   "cell_type": "markdown",
   "id": "375e6e56",
   "metadata": {},
   "source": [
    "## Step 4: Data Job - Define the Covid Cases Table (01_create_covid_cases_europe_daily.sql)"
   ]
  },
  {
   "cell_type": "code",
   "execution_count": null,
   "id": "7106bdad",
   "metadata": {},
   "outputs": [],
   "source": [
    "! vdk run tracking-covid-avramov-man-united-boza"
   ]
  },
  {
   "cell_type": "markdown",
   "id": "a8fe9600",
   "metadata": {},
   "source": [
    "## Step 5: Data Job - Define the Covid Deaths Table (02_create_covid_deaths_europe_daily.sql)"
   ]
  },
  {
   "cell_type": "markdown",
   "id": "4d78530b",
   "metadata": {},
   "source": [
    "## Step 6: Data Job - Define the Covid Cases and Deaths Clean Table (03_create_clean_full_table.sql)"
   ]
  },
  {
   "cell_type": "markdown",
   "id": "17ea33b3",
   "metadata": {},
   "source": [
    "## Step 7: Data Job - Incrementally Ingest Covid Cases Data (10_ingest_covid_cases_data.py)"
   ]
  },
  {
   "cell_type": "markdown",
   "id": "d242362f",
   "metadata": {},
   "source": [
    "## Step 8: Data Job - Incrementally Ingest Covid Deaths Data  (20_ingest_covid_deaths_data.py)"
   ]
  },
  {
   "cell_type": "markdown",
   "id": "ec888506",
   "metadata": {},
   "source": [
    "## Step 9: Data Job - Incrementally Build Covid Cases and Deaths Clean Data (30_clean_merge_transform.py)"
   ]
  },
  {
   "cell_type": "markdown",
   "id": "fac2b06f",
   "metadata": {},
   "source": [
    "## Step 10: Building an Interactive Streamlit Dashboard (build_streamlit_dashboard.py)"
   ]
  },
  {
   "cell_type": "code",
   "execution_count": null,
   "id": "7ac4fdb5",
   "metadata": {},
   "outputs": [],
   "source": [
    "import os\n",
    "print(\"Open streamlit (in a new tab) at this link:\")\n",
    "print(\"https://notebooks.gesis.org/binder/jupyter/user/\" + os.environ.get(\"JUPYTERHUB_USER\") + \"/proxy/8501/\")"
   ]
  },
  {
   "cell_type": "code",
   "execution_count": null,
   "id": "4bb78b4d",
   "metadata": {},
   "outputs": [],
   "source": [
    "! streamlit run build_streamlit_dashboard.py"
   ]
  },
  {
   "cell_type": "code",
   "execution_count": null,
   "id": "d361a68a",
   "metadata": {},
   "outputs": [],
   "source": []
  },
  {
   "cell_type": "code",
   "execution_count": null,
   "id": "28a3a78e",
   "metadata": {},
   "outputs": [],
   "source": []
  }
 ],
 "metadata": {
  "kernelspec": {
   "display_name": "Python 3",
   "language": "python",
   "name": "python3"
  },
  "language_info": {
   "codemirror_mode": {
    "name": "ipython",
    "version": 3
   },
   "file_extension": ".py",
   "mimetype": "text/x-python",
   "name": "python",
   "nbconvert_exporter": "python",
   "pygments_lexer": "ipython3",
   "version": "3.7.10"
  }
 },
 "nbformat": 4,
 "nbformat_minor": 5
}
