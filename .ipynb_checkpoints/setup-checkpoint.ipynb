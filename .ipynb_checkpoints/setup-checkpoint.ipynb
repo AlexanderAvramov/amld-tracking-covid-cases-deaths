{
 "cells": [
  {
   "cell_type": "code",
   "execution_count": null,
   "id": "a8c8f286",
   "metadata": {},
   "outputs": [],
   "source": [
    "# !vdk create --cloud -n tracking-covid-infections-and-deaths-data-job -t amld"
   ]
  },
  {
   "cell_type": "code",
   "execution_count": null,
   "id": "9aec8dcd",
   "metadata": {},
   "outputs": [],
   "source": [
    "# !vdk run tracking-covid-infections-and-deaths-data-job"
   ]
  },
  {
   "cell_type": "code",
   "execution_count": null,
   "id": "7ac4fdb5",
   "metadata": {},
   "outputs": [],
   "source": [
    "%config SqlMagic.autocommit=False # for engines that do not support autommit"
   ]
  },
  {
   "cell_type": "code",
   "execution_count": null,
   "id": "4bb78b4d",
   "metadata": {},
   "outputs": [],
   "source": [
    "%load_ext sql"
   ]
  },
  {
   "cell_type": "code",
   "execution_count": null,
   "id": "d361a68a",
   "metadata": {},
   "outputs": [],
   "source": [
    "%sql SHOW TABLES FROM default"
   ]
  },
  {
   "cell_type": "code",
   "execution_count": null,
   "id": "28a3a78e",
   "metadata": {},
   "outputs": [],
   "source": [
    "%sql select count(*) from mysql.default.covid_cases_europe_daily"
   ]
  },
  {
   "cell_type": "code",
   "execution_count": null,
   "id": "72ac9d96",
   "metadata": {},
   "outputs": [],
   "source": [
    "%sql select count(*) from mysql.default.covid_deaths_europe_daily"
   ]
  },
  {
   "cell_type": "code",
   "execution_count": null,
   "id": "b8f7a2a5",
   "metadata": {},
   "outputs": [],
   "source": [
    "%sql select count(*) from mysql.default.covid_cases_deaths_europe"
   ]
  },
  {
   "cell_type": "code",
   "execution_count": null,
   "id": "1ca71af4",
   "metadata": {},
   "outputs": [],
   "source": [
    "# %sql DROP TABLE mysql.default.covid_cases_europe_daily"
   ]
  },
  {
   "cell_type": "code",
   "execution_count": null,
   "id": "59c76d1f",
   "metadata": {},
   "outputs": [],
   "source": [
    "!streamlit run build_streamlit_dashboard.py\n",
    "# Add \"/proxy/8501/\" to the URL to go to the Steramlit Web App \n",
    "# This will block the page until you click \"Interrupt the Kernel\""
   ]
  }
 ],
 "metadata": {
  "kernelspec": {
   "display_name": "Python 3",
   "language": "python",
   "name": "python3"
  },
  "language_info": {
   "codemirror_mode": {
    "name": "ipython",
    "version": 3
   },
   "file_extension": ".py",
   "mimetype": "text/x-python",
   "name": "python",
   "nbconvert_exporter": "python",
   "pygments_lexer": "ipython3",
   "version": "3.7.10"
  }
 },
 "nbformat": 4,
 "nbformat_minor": 5
}
