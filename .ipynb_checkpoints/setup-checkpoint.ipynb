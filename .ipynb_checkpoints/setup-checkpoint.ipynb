{
 "cells": [
  {
   "cell_type": "markdown",
   "id": "30aa551e",
   "metadata": {},
   "source": [
    "# Welcome to the Covid Tracking Example!"
   ]
  },
  {
   "cell_type": "markdown",
   "id": "51ca7797",
   "metadata": {},
   "source": [
    "## Workshop Steps"
   ]
  },
  {
   "cell_type": "markdown",
   "id": "1ba646cb",
   "metadata": {},
   "source": [
    "Now that you have opened up the MyBinder environment and are reading this, you are already on the right track! Inside this environment, you will also find:\n",
    "\n",
    "* sample scripts: This is a folder containing the base of the scripts that you will be working with to finish the exercise. Please look for the triple exclamation points (!!!) as that means that you are being asked to write some code to get things to work!\n",
    "* helpers: This contains a script that you may need to put inside your data job's folder prior to executing, if you want to reset the data job's properties. You may want to do such a thing if you want to ingest the entirety of the data again - not recommended.\n",
    "* README.md: This is just the README file you saw on the Github page.\n",
    "* requirements.txt: This is a list of the required libraries that were installed upon startup.\n",
    "* setup.ipynb: The file you are reading right now! Think of this as your home page.\n",
    "* Other system files - postBuild and start: No need to worry about these. They are needed for the setup with our DB."
   ]
  },
  {
   "cell_type": "markdown",
   "id": "51c917e5",
   "metadata": {},
   "source": [
    "## Step 0: Set up SQL Magic"
   ]
  },
  {
   "cell_type": "markdown",
   "id": "b132da13",
   "metadata": {},
   "source": [
    "Let's set up the notebook to work with SQL using the code blocks below:"
   ]
  },
  {
   "cell_type": "code",
   "execution_count": null,
   "id": "840eb332",
   "metadata": {},
   "outputs": [],
   "source": [
    "%config SqlMagic.autocommit=False"
   ]
  },
  {
   "cell_type": "code",
   "execution_count": null,
   "id": "5d1fd947",
   "metadata": {},
   "outputs": [],
   "source": [
    "%load_ext sql"
   ]
  },
  {
   "cell_type": "markdown",
   "id": "1c7aea1d",
   "metadata": {},
   "source": [
    "You can browse the various different tables in the default schema."
   ]
  },
  {
   "cell_type": "code",
   "execution_count": null,
   "id": "ea0a5e20",
   "metadata": {},
   "outputs": [],
   "source": [
    "%sql SHOW TABLES FROM default"
   ]
  },
  {
   "cell_type": "markdown",
   "id": "b7949a87",
   "metadata": {},
   "source": [
    "You can query a table in the following way. Please note that we will want you to name the tables with a suffix containing your last name, your sports team, and your favorite drink. For example, instead of the table being called \"covid_cases_europe_daily\", you need to rename it to something like \"covid_cases_europe_daily_smith_basel_pepsi\"."
   ]
  },
  {
   "cell_type": "markdown",
   "id": "bc66ba65",
   "metadata": {},
   "source": [
    "Using the code cell below, you can run any query against the created tables. Please use the example below:"
   ]
  },
  {
   "cell_type": "code",
   "execution_count": null,
   "id": "e3f7d128",
   "metadata": {},
   "outputs": [],
   "source": [
    "%sql select count(*) from mysql.default.covid_cases_europe_daily"
   ]
  },
  {
   "cell_type": "markdown",
   "id": "f4071d2d",
   "metadata": {},
   "source": [
    "You can also drop tables, but please be very careful with this. Only do it when you are sure you want to delete YOUR OWN table. "
   ]
  },
  {
   "cell_type": "code",
   "execution_count": null,
   "id": "64a8f517",
   "metadata": {},
   "outputs": [],
   "source": [
    "# %sql DROP TABLE mysql.default.covid_cases_europe_daily"
   ]
  },
  {
   "cell_type": "markdown",
   "id": "bc826dab",
   "metadata": {},
   "source": [
    "## Step 1: Explore the List of Data Jobs That Have Been Created on the Cloud"
   ]
  },
  {
   "cell_type": "markdown",
   "id": "db3cfea2",
   "metadata": {},
   "source": [
    "As per the previous example, let's explore the data jobs that have been created on the cloud. This is good practice because it allows you to be aware of what's going on, but also lets you know not to name your data job in a certain way (because it may already exist!)."
   ]
  },
  {
   "cell_type": "code",
   "execution_count": null,
   "id": "d4419f25",
   "metadata": {},
   "outputs": [],
   "source": [
    "! vdk list"
   ]
  },
  {
   "cell_type": "markdown",
   "id": "dea4bc11",
   "metadata": {},
   "source": [
    "## Step 2: Create a Data Job"
   ]
  },
  {
   "cell_type": "markdown",
   "id": "2d3a926b",
   "metadata": {},
   "source": [
    "Now that we have explored the list of created (on the cloud) data jobs, let's create our own.\n",
    "\n",
    "Keep in mind that we would like to have a sub-folder for the data job,so that our Streamlit script is outside of it and in the main directory."
   ]
  },
  {
   "cell_type": "markdown",
   "id": "c2c749fb",
   "metadata": {},
   "source": [
    "<font color='red'>**ATTENTION!**</font>"
   ]
  },
  {
   "cell_type": "markdown",
   "id": "80af900c",
   "metadata": {},
   "source": [
    "Based on the information above, try creating a data job titled as follows:\n",
    "* tracking-covid, dash (-)\n",
    "* your last name, dash (-)\n",
    "* your favorite sports team, dash (-)\n",
    "* your favorite drink.\n",
    "\n",
    "Please do not use team names and numbers that may be parts of any of your passwords, as the data job names will be visible to all. For example, you can create a data job titled \"covid-tracking-smith-man-united-cola\".\n",
    "\n",
    "You can chose any team name that you want, but please create the job at the home directory. This will create a sub-folder for the data job. The home directory is /home/jovyan.\n",
    "\n",
    "Here's an example code:\n",
    "```\n",
    "! vdk create -n tracking-covid-avramov-man-united-cola -t amld -p /home/jovyan\n",
    "```"
   ]
  },
  {
   "cell_type": "markdown",
   "id": "2ac55d0d",
   "metadata": {},
   "source": [
    "<font color='green'>**GOOD JOB!**</font>"
   ]
  },
  {
   "cell_type": "markdown",
   "id": "8ff57151",
   "metadata": {},
   "source": [
    "You can run the command below to see if your data job will show up. It should! In addition, a folder with your data job's name will show up on the left side of your screen, in the directories section."
   ]
  },
  {
   "cell_type": "code",
   "execution_count": null,
   "id": "3b944145",
   "metadata": {},
   "outputs": [],
   "source": [
    "! vdk list"
   ]
  },
  {
   "cell_type": "markdown",
   "id": "0e57c8ee",
   "metadata": {},
   "source": [
    "## Step 3: Work Out the Data Job Template"
   ]
  },
  {
   "cell_type": "markdown",
   "id": "18fafce3",
   "metadata": {},
   "source": [
    "As you already know, when you create a data job, VDK automatically downloads some template scripts and files, so that you can get accustomed to the data job's structure. They are super helpful in getting you ready to run your own data jobs. However, let's go ahead and delete these for our example, since we won't be starting from scratch, but please check them out! Alternatively, you can explore the 'vdk create --no-template' option, if you do not want these templates downloaded. Let's go ahead and delete the following files:\n",
    "\n",
    "- The SQL script: we won't need it.\n",
    "- The sample Python script: we already have some Python scripts ready for you to edit - more on that below.\n",
    "- README.md: We already have a README for the entire example, so we can get rid of this.\n",
    "- requirements.txt: Each data job would need this file if the data job relies on external libraries that VDK does not have. In our case, MyBinder installed those libraries upon startup, so we won't be needing this either.\n",
    "\n",
    "<font color='red'>**ATTENTION!**</font> \n",
    "\n",
    "As such, please run the code below to delete them.\n",
    "\n",
    "Please change '!!! ENTER DATA JOB NAME HERE' to the name of your data job."
   ]
  },
  {
   "cell_type": "code",
   "execution_count": null,
   "id": "313cfad5",
   "metadata": {},
   "outputs": [],
   "source": [
    "! rm \"!!! ENTER DATA JOB NAME HERE/10_sql_step.sql\"\n",
    "! rm \"!!! ENTER DATA JOB NAME HERE/20_python_step.py\"\n",
    "! rm \"!!! ENTER DATA JOB NAME HERE/README.md\"\n",
    "! rm \"!!! ENTER DATA JOB NAME HERE/requirements.txt\"\n",
    "! rm \"!!! ENTER DATA JOB NAME HERE/config.ini\""
   ]
  },
  {
   "cell_type": "markdown",
   "id": "6147fb7b",
   "metadata": {},
   "source": [
    "<font color='green'>**GOOD JOB!**</font>"
   ]
  },
  {
   "cell_type": "markdown",
   "id": "db6206d8",
   "metadata": {},
   "source": [
    "Now that you have created a data job and gotten rid of the templates, please go inside the subfolder and set up the structure of your data job. Here's the general idea.\n",
    "\n",
    "We want the data job to have six scripts:\n",
    "\n",
    "* Let's have one SQL script that creates the Covid cases data table in our cloud DB.\n",
    "* Let's have one SQL script that creates the Covid deaths data table in our cloud DB.\n",
    "* Let's have one SQL script that creates the Covid cases and deaths clean table in our cloud DB.\n",
    "* Let's have one Python script that creates an API call for the Covid cases data and ingests it into our cloud DB.\n",
    "* Let's have another Python script that creates an API call for the Covid deaths data and ingests it into our cloud DB.\n",
    "* Let's have one Python script that reads both sets of data from the cloud DB, joins them, cleans them, and saves them in a new table in the DB.\n",
    "* Let's also have a config.ini file, which specifies how often the data job will be executed, using cron scheduling.\n",
    "\n",
    "Each of these scripts are present in the sample scripts subfolder. However, we've added some coding challenges inside of them to make things fun!"
   ]
  },
  {
   "cell_type": "markdown",
   "id": "223b8eab",
   "metadata": {},
   "source": [
    "<font color='red'>**ATTENTION!**</font>\n",
    "\n",
    "Let's move the sample scripts to the data job subfolder. Please run the code cell below, making sure to enter your data job's name instead of the '!!! ENTER NAME HERE'."
   ]
  },
  {
   "cell_type": "code",
   "execution_count": null,
   "id": "73dd202b",
   "metadata": {},
   "outputs": [],
   "source": [
    "! mv \"sample scripts/01_create_covid_cases_europe_daily.sql\" ~/!!! ENTER NAME HERE\n",
    "! mv \"sample scripts/02_create_covid_deaths_europe_daily.sql\" ~/!!! ENTER NAME HERE\n",
    "! mv \"sample scripts/03_create_covid_cases_deaths_europe_daily.sql\" ~/!!! ENTER NAME HERE\n",
    "! mv \"sample scripts/10_ingest_covid_cases_data.py\"  ~/!!! ENTER NAME HERE\n",
    "! mv \"sample scripts/20_ingest_covid_deaths_data.py\"  ~/!!! ENTER NAME HERE\n",
    "! mv \"sample scripts/30_clean_merge_transform.py\"  ~/!!! ENTER NAME HERE\n",
    "! mv \"sample scripts/config.ini\"  ~/!!! ENTER NAME HERE"
   ]
  },
  {
   "cell_type": "markdown",
   "id": "5e2e5fd0",
   "metadata": {},
   "source": [
    "Great! Now you're all set up with the data job:\n",
    "\n",
    "* You have created a data job on the cloud.\n",
    "* You have deleted the template files that you do not need.\n",
    "* You have moved the sample scripts we provided to the data job sub-folder.\n",
    "\n",
    "The next step is to begin working on each script in the data job! Let's do it!"
   ]
  },
  {
   "cell_type": "markdown",
   "id": "375e6e56",
   "metadata": {},
   "source": [
    "## Step 4: Data Job - Define the Covid Cases Table (01_create_covid_cases_europe_daily.sql)"
   ]
  },
  {
   "cell_type": "markdown",
   "id": "92df4323",
   "metadata": {},
   "source": [
    "Before we can begin getting data from the API, we need to first create an empty table in our cloud DB that will house the data. We will begin with an SQL script that creates the Covid cases table."
   ]
  },
  {
   "cell_type": "markdown",
   "id": "b7580840",
   "metadata": {},
   "source": [
    "Please open up 01_create_covid_cases_europe_daily.sql in your data job's subfolder. Inside, you will see that the code is not fully populated. We want YOU to do that!"
   ]
  },
  {
   "cell_type": "markdown",
   "id": "3f3fbeb1",
   "metadata": {},
   "source": [
    "<font color='red'>**ATTENTION!**</font>"
   ]
  },
  {
   "cell_type": "markdown",
   "id": "f735acf9",
   "metadata": {},
   "source": [
    "Please note that the table name is currently not entered. Instead, it is \"!!! ENTER TABLE NAME HERE\". We want you to change that so that the table name is called \"covid_cases_europe_daily\", underscore, your last name, underscore, your favorite sports team, underscore, and your favorite drink. For example: covid_cases_europe_daily_smith_basel_cola."
   ]
  },
  {
   "cell_type": "markdown",
   "id": "b01d9a23",
   "metadata": {},
   "source": [
    "<font color='green'>**GOOD JOB!**</font>"
   ]
  },
  {
   "cell_type": "markdown",
   "id": "411d5b84",
   "metadata": {},
   "source": [
    "Nice! You've created the needed table. Let's move on to the next one!"
   ]
  },
  {
   "cell_type": "markdown",
   "id": "a8fe9600",
   "metadata": {},
   "source": [
    "## Step 5: Data Job - Define the Covid Deaths Table (02_create_covid_deaths_europe_daily.sql)"
   ]
  },
  {
   "cell_type": "markdown",
   "id": "feeb59fe",
   "metadata": {},
   "source": [
    "Please open up 02_create_covid_deaths_europe_daily.sql in your data job's subfolder. Inside, you will see that the code is not fully populated. We want YOU to do that!"
   ]
  },
  {
   "cell_type": "markdown",
   "id": "d4aa5ee0",
   "metadata": {},
   "source": [
    "<font color='red'>**ATTENTION!**</font>"
   ]
  },
  {
   "cell_type": "markdown",
   "id": "d2bd080e",
   "metadata": {},
   "source": [
    "Please note that the table name is currently not entered. Instead, it is \"!!! ENTER TABLE NAME HERE\". We want you to change that so that the table name is called \"covid_deaths_europe_daily\", underscore, your last name, underscore, your favorite sports team, underscore, and your favorite drink. For example: covid_deaths_europe_daily_smith_basel_cola."
   ]
  },
  {
   "cell_type": "markdown",
   "id": "860832b1",
   "metadata": {},
   "source": [
    "In addition, please change the column types to column types that make sense. In other words, country and and obs_date should be VARCHAR, but what should the other be? Hint: Look at the previous script!"
   ]
  },
  {
   "cell_type": "markdown",
   "id": "1ecf80af",
   "metadata": {},
   "source": [
    "<font color='green'>**GOOD JOB!**</font>"
   ]
  },
  {
   "cell_type": "markdown",
   "id": "580a2008",
   "metadata": {},
   "source": [
    "Nice! You've created the needed table. Let's move on to the next one!"
   ]
  },
  {
   "cell_type": "markdown",
   "id": "4d78530b",
   "metadata": {},
   "source": [
    "## Step 6: Data Job - Define the Covid Cases and Deaths Clean Table (03_create_clean_full_table.sql)"
   ]
  },
  {
   "cell_type": "markdown",
   "id": "82c27a94",
   "metadata": {},
   "source": [
    "Please open up 03_create_clean_full_table.sql in your data job's subfolder. Inside, you will see that the code is not fully populated. We want YOU to do that!"
   ]
  },
  {
   "cell_type": "markdown",
   "id": "33eaa032",
   "metadata": {},
   "source": [
    "<font color='red'>**ATTENTION!**</font>"
   ]
  },
  {
   "cell_type": "markdown",
   "id": "15183586",
   "metadata": {},
   "source": [
    "Please find all of the \"!!! ENTER....\" instances and make the needed changes, as you have done in the previous two scripts above. The table name should be something like \"covid_cases_deaths_europe_daily_smith_cola\"."
   ]
  },
  {
   "cell_type": "markdown",
   "id": "5cb6549b",
   "metadata": {},
   "source": [
    "<font color='green'>**GOOD JOB!**</font>"
   ]
  },
  {
   "cell_type": "markdown",
   "id": "d7e7291c",
   "metadata": {},
   "source": [
    "Nice! You've now created all of the needed tables. Let's get ready to ingest some data!"
   ]
  },
  {
   "cell_type": "markdown",
   "id": "17ea33b3",
   "metadata": {},
   "source": [
    "## Step 7: Data Job - Incrementally Ingest Covid Cases Data (10_ingest_covid_cases_data.py)"
   ]
  },
  {
   "cell_type": "markdown",
   "id": "702d1d89",
   "metadata": {},
   "source": [
    "Please open up 10_ingest_covid_cases_data.py. This script will do an API call to ingest the Covid cases data."
   ]
  },
  {
   "cell_type": "markdown",
   "id": "a7d34437",
   "metadata": {},
   "source": [
    "As you are already quite familiar with the way VDK works within Python scripts, the beginning of the script should look familiar. It imports the needed libraries and begins the \"run\" function. "
   ]
  },
  {
   "cell_type": "markdown",
   "id": "dd988b15",
   "metadata": {},
   "source": [
    "From the earlier example, you are already familiar with incremental ingestion. Thus, lines 21 to 30 will look familiar. What you are doing is using job properties so that the script knows how much and what data to ingest. "
   ]
  },
  {
   "cell_type": "code",
   "execution_count": null,
   "id": "a4520bd1",
   "metadata": {},
   "outputs": [],
   "source": []
  },
  {
   "cell_type": "code",
   "execution_count": null,
   "id": "0bac00fc",
   "metadata": {},
   "outputs": [],
   "source": []
  },
  {
   "cell_type": "code",
   "execution_count": null,
   "id": "acc9d48a",
   "metadata": {},
   "outputs": [],
   "source": []
  },
  {
   "cell_type": "code",
   "execution_count": null,
   "id": "bf6f351c",
   "metadata": {},
   "outputs": [],
   "source": []
  },
  {
   "cell_type": "code",
   "execution_count": null,
   "id": "35ec6314",
   "metadata": {},
   "outputs": [],
   "source": []
  },
  {
   "cell_type": "code",
   "execution_count": null,
   "id": "59ef7100",
   "metadata": {},
   "outputs": [],
   "source": []
  },
  {
   "cell_type": "code",
   "execution_count": null,
   "id": "c6cc8971",
   "metadata": {},
   "outputs": [],
   "source": []
  },
  {
   "cell_type": "code",
   "execution_count": null,
   "id": "ff9fb55e",
   "metadata": {},
   "outputs": [],
   "source": []
  },
  {
   "cell_type": "markdown",
   "id": "d242362f",
   "metadata": {},
   "source": [
    "## Step 8: Data Job - Incrementally Ingest Covid Deaths Data  (20_ingest_covid_deaths_data.py)"
   ]
  },
  {
   "cell_type": "code",
   "execution_count": null,
   "id": "29854c04",
   "metadata": {},
   "outputs": [],
   "source": []
  },
  {
   "cell_type": "code",
   "execution_count": null,
   "id": "9ab75080",
   "metadata": {},
   "outputs": [],
   "source": []
  },
  {
   "cell_type": "code",
   "execution_count": null,
   "id": "259bc4d8",
   "metadata": {},
   "outputs": [],
   "source": []
  },
  {
   "cell_type": "code",
   "execution_count": null,
   "id": "cdf12338",
   "metadata": {},
   "outputs": [],
   "source": []
  },
  {
   "cell_type": "code",
   "execution_count": null,
   "id": "aa1f1fc2",
   "metadata": {},
   "outputs": [],
   "source": []
  },
  {
   "cell_type": "code",
   "execution_count": null,
   "id": "8d37eddf",
   "metadata": {},
   "outputs": [],
   "source": []
  },
  {
   "cell_type": "code",
   "execution_count": null,
   "id": "f0791e04",
   "metadata": {},
   "outputs": [],
   "source": []
  },
  {
   "cell_type": "code",
   "execution_count": null,
   "id": "60185843",
   "metadata": {},
   "outputs": [],
   "source": []
  },
  {
   "cell_type": "code",
   "execution_count": null,
   "id": "be00c2b2",
   "metadata": {},
   "outputs": [],
   "source": []
  },
  {
   "cell_type": "code",
   "execution_count": null,
   "id": "5dcfe2f6",
   "metadata": {},
   "outputs": [],
   "source": []
  },
  {
   "cell_type": "code",
   "execution_count": null,
   "id": "9171d419",
   "metadata": {},
   "outputs": [],
   "source": []
  },
  {
   "cell_type": "markdown",
   "id": "ec888506",
   "metadata": {},
   "source": [
    "## Step 9: Data Job - Incrementally Build Covid Cases and Deaths Clean Data (30_clean_merge_transform.py)"
   ]
  },
  {
   "cell_type": "code",
   "execution_count": null,
   "id": "a3b0cf4b",
   "metadata": {},
   "outputs": [],
   "source": []
  },
  {
   "cell_type": "code",
   "execution_count": null,
   "id": "5e414718",
   "metadata": {},
   "outputs": [],
   "source": []
  },
  {
   "cell_type": "code",
   "execution_count": null,
   "id": "9f72d444",
   "metadata": {},
   "outputs": [],
   "source": []
  },
  {
   "cell_type": "code",
   "execution_count": null,
   "id": "23208c38",
   "metadata": {},
   "outputs": [],
   "source": []
  },
  {
   "cell_type": "code",
   "execution_count": null,
   "id": "78745bbc",
   "metadata": {},
   "outputs": [],
   "source": []
  },
  {
   "cell_type": "code",
   "execution_count": null,
   "id": "7a9c0bf0",
   "metadata": {},
   "outputs": [],
   "source": []
  },
  {
   "cell_type": "code",
   "execution_count": null,
   "id": "b21b3df9",
   "metadata": {},
   "outputs": [],
   "source": []
  },
  {
   "cell_type": "code",
   "execution_count": null,
   "id": "f96c46db",
   "metadata": {},
   "outputs": [],
   "source": []
  },
  {
   "cell_type": "code",
   "execution_count": null,
   "id": "14e98007",
   "metadata": {},
   "outputs": [],
   "source": []
  },
  {
   "cell_type": "code",
   "execution_count": null,
   "id": "2e4169cd",
   "metadata": {},
   "outputs": [],
   "source": []
  },
  {
   "cell_type": "code",
   "execution_count": null,
   "id": "eec09d91",
   "metadata": {},
   "outputs": [],
   "source": []
  },
  {
   "cell_type": "markdown",
   "id": "c6495cd9",
   "metadata": {},
   "source": [
    "## Step 10: Deploy the Job to the Cloud"
   ]
  },
  {
   "cell_type": "code",
   "execution_count": null,
   "id": "7da08e4b",
   "metadata": {},
   "outputs": [],
   "source": []
  },
  {
   "cell_type": "code",
   "execution_count": null,
   "id": "5d817ef1",
   "metadata": {},
   "outputs": [],
   "source": []
  },
  {
   "cell_type": "code",
   "execution_count": null,
   "id": "7fd43970",
   "metadata": {},
   "outputs": [],
   "source": []
  },
  {
   "cell_type": "code",
   "execution_count": null,
   "id": "f0218ee2",
   "metadata": {},
   "outputs": [],
   "source": []
  },
  {
   "cell_type": "code",
   "execution_count": null,
   "id": "c3898135",
   "metadata": {},
   "outputs": [],
   "source": []
  },
  {
   "cell_type": "code",
   "execution_count": null,
   "id": "33121427",
   "metadata": {},
   "outputs": [],
   "source": []
  },
  {
   "cell_type": "code",
   "execution_count": null,
   "id": "ad883987",
   "metadata": {},
   "outputs": [],
   "source": [
    "! vdk deploy -n tracking-covid-avramov-man-united-boza -r \"Initial deploy\" -p /home/jovyan/tracking-covid-avramov-man-united-boza"
   ]
  },
  {
   "cell_type": "code",
   "execution_count": null,
   "id": "6032702e",
   "metadata": {},
   "outputs": [],
   "source": [
    "! vdk deploy --show -t amld -n tracking-covid-avramov-man-united-boza"
   ]
  },
  {
   "cell_type": "code",
   "execution_count": null,
   "id": "5fb18379",
   "metadata": {},
   "outputs": [],
   "source": [
    "! vdk list"
   ]
  },
  {
   "cell_type": "markdown",
   "id": "fac2b06f",
   "metadata": {},
   "source": [
    "## Step 11: Building an Interactive Streamlit Dashboard (build_streamlit_dashboard.py)"
   ]
  },
  {
   "cell_type": "code",
   "execution_count": null,
   "id": "fd160401",
   "metadata": {},
   "outputs": [],
   "source": []
  },
  {
   "cell_type": "code",
   "execution_count": null,
   "id": "32d604d1",
   "metadata": {},
   "outputs": [],
   "source": []
  },
  {
   "cell_type": "code",
   "execution_count": null,
   "id": "df064b81",
   "metadata": {},
   "outputs": [],
   "source": []
  },
  {
   "cell_type": "code",
   "execution_count": null,
   "id": "351dfefc",
   "metadata": {},
   "outputs": [],
   "source": []
  },
  {
   "cell_type": "code",
   "execution_count": null,
   "id": "c6db5e07",
   "metadata": {},
   "outputs": [],
   "source": []
  },
  {
   "cell_type": "code",
   "execution_count": null,
   "id": "50b70b48",
   "metadata": {},
   "outputs": [],
   "source": []
  },
  {
   "cell_type": "code",
   "execution_count": null,
   "id": "21347d1e",
   "metadata": {},
   "outputs": [],
   "source": []
  },
  {
   "cell_type": "code",
   "execution_count": null,
   "id": "5db154bc",
   "metadata": {},
   "outputs": [],
   "source": [
    "! mv \"sample scripts/build_streamlit_dashboard.py\"  ~"
   ]
  },
  {
   "cell_type": "code",
   "execution_count": null,
   "id": "4bb78b4d",
   "metadata": {},
   "outputs": [],
   "source": [
    "! streamlit run build_streamlit_dashboard.py\n",
    "# add \"/proxy/8501/\" to the URL to go to the Streamlit Web App\n",
    "# This will block the page until you click Interrupt the Kernel"
   ]
  }
 ],
 "metadata": {
  "kernelspec": {
   "display_name": "Python 3",
   "language": "python",
   "name": "python3"
  },
  "language_info": {
   "codemirror_mode": {
    "name": "ipython",
    "version": 3
   },
   "file_extension": ".py",
   "mimetype": "text/x-python",
   "name": "python",
   "nbconvert_exporter": "python",
   "pygments_lexer": "ipython3",
   "version": "3.7.10"
  }
 },
 "nbformat": 4,
 "nbformat_minor": 5
}
