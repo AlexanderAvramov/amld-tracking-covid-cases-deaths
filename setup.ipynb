{
 "cells": [
  {
   "cell_type": "code",
   "execution_count": null,
   "id": "d4419f25",
   "metadata": {},
   "outputs": [],
   "source": [
    "! vdk list"
   ]
  },
  {
   "cell_type": "code",
   "execution_count": null,
   "id": "a8c8f286",
   "metadata": {},
   "outputs": [],
   "source": [
    "# ! vdk create -n tracking-covid-cases-deaths-data-job -t amld -p /home/jovyan"
   ]
  },
  {
   "cell_type": "code",
   "execution_count": null,
   "id": "badfbc78",
   "metadata": {},
   "outputs": [],
   "source": [
    "! rm \"tracking-covid-cases-deaths-data-job/10_sql_step.sql\"\n",
    "! rm \"tracking-covid-cases-deaths-data-job/20_python_step.py\"\n",
    "! rm \"tracking-covid-cases-deaths-data-job/README.md\"\n",
    "! rm \"tracking-covid-cases-deaths-data-job/requirements.txt\"\n",
    "! rm \"tracking-covid-cases-deaths-data-job/config.ini\""
   ]
  },
  {
   "cell_type": "code",
   "execution_count": null,
   "id": "73dd202b",
   "metadata": {},
   "outputs": [],
   "source": [
    "! mv \"sample scripts/01_create_covid_cases_europe_daily.sql\" ~/tracking-covid-cases-deaths-data-job\n",
    "! mv \"sample scripts/02_create_covid_deaths_europe_daily.sql\" ~/tracking-covid-cases-deaths-data-job\n",
    "! mv \"sample scripts/03_create_clean_full_table.sql\" ~/tracking-covid-cases-deaths-data-job\n",
    "! mv \"sample scripts/10_ingest_covid_cases_data.py\"  ~/tracking-covid-cases-deaths-data-job\n",
    "! mv \"sample scripts/20_ingest_covid_deaths_data.py\"  ~/tracking-covid-cases-deaths-data-job\n",
    "! mv \"sample scripts/30_clean_merge_transform.py\"  ~/tracking-covid-cases-deaths-data-job\n",
    "! mv \"sample scripts/config.ini\"  ~/tracking-covid-cases-deaths-data-job"
   ]
  },
  {
   "cell_type": "code",
   "execution_count": null,
   "id": "9aec8dcd",
   "metadata": {},
   "outputs": [],
   "source": [
    "! vdk run tracking-covid-cases-deaths-data-job"
   ]
  },
  {
   "cell_type": "code",
   "execution_count": null,
   "id": "7ac4fdb5",
   "metadata": {},
   "outputs": [],
   "source": [
    "%config SqlMagic.autocommit=False # for engines that do not support autommit"
   ]
  },
  {
   "cell_type": "code",
   "execution_count": null,
   "id": "4bb78b4d",
   "metadata": {},
   "outputs": [],
   "source": [
    "%load_ext sql"
   ]
  },
  {
   "cell_type": "code",
   "execution_count": null,
   "id": "d361a68a",
   "metadata": {},
   "outputs": [],
   "source": [
    "%sql SHOW TABLES FROM default"
   ]
  },
  {
   "cell_type": "code",
   "execution_count": null,
   "id": "28a3a78e",
   "metadata": {},
   "outputs": [],
   "source": [
    "%sql select count(*) from mysql.default.covid_cases_europe_daily"
   ]
  },
  {
   "cell_type": "code",
   "execution_count": null,
   "id": "72ac9d96",
   "metadata": {},
   "outputs": [],
   "source": [
    "%sql select count(*) from mysql.default.covid_deaths_europe_daily"
   ]
  },
  {
   "cell_type": "code",
   "execution_count": null,
   "id": "b8f7a2a5",
   "metadata": {},
   "outputs": [],
   "source": [
    "%sql select count(*) from mysql.default.covid_cases_deaths_europe"
   ]
  },
  {
   "cell_type": "code",
   "execution_count": null,
   "id": "1ca71af4",
   "metadata": {},
   "outputs": [],
   "source": [
    "# %sql DROP TABLE mysql.default.covid_cases_europe_daily"
   ]
  },
  {
   "cell_type": "code",
   "execution_count": null,
   "id": "59c76d1f",
   "metadata": {},
   "outputs": [],
   "source": [
    "!streamlit run build_streamlit_dashboard.py\n",
    "# Add \"/proxy/8501/\" to the URL to go to the Steramlit Web App \n",
    "# This will block the page until you click \"Interrupt the Kernel\""
   ]
  }
 ],
 "metadata": {
  "kernelspec": {
   "display_name": "Python 3",
   "language": "python",
   "name": "python3"
  },
  "language_info": {
   "codemirror_mode": {
    "name": "ipython",
    "version": 3
   },
   "file_extension": ".py",
   "mimetype": "text/x-python",
   "name": "python",
   "nbconvert_exporter": "python",
   "pygments_lexer": "ipython3",
   "version": "3.7.10"
  }
 },
 "nbformat": 4,
 "nbformat_minor": 5
}
